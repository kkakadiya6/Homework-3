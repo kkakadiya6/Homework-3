{
 "cells": [
  {
   "cell_type": "markdown",
   "metadata": {},
   "source": [
    "# PHYS 3266/6260: Homework 3, Krish Kakadiya"
   ]
  },
  {
   "cell_type": "markdown",
   "metadata": {},
   "source": [
    "## Problem 1"
   ]
  },
  {
   "cell_type": "markdown",
   "metadata": {},
   "source": [
    "This first code is copied from the previous assignment, with the addition of a for loop that goes from Z to 3Z, and appends each value of A in that range into an array."
   ]
  },
  {
   "cell_type": "markdown",
   "metadata": {},
   "source": [
    "The max() function then returns the maximum value and its A number."
   ]
  },
  {
   "cell_type": "code",
   "execution_count": 66,
   "metadata": {},
   "outputs": [
    {
     "name": "stdout",
     "output_type": "stream",
     "text": [
      "-2521.0861720527337 MeV\n",
      "The maximum binding energy is: 502.8420919158077\n",
      "the A value that gives the maximum binding enegery is: 33\n"
     ]
    }
   ],
   "source": [
    "a1=15.67\n",
    "a2=17.23\n",
    "a3=0.75\n",
    "a4=93.2\n",
    "a5Aodd=0\n",
    "a5AZeven=12\n",
    "a5AevenZodd=-12\n",
    "A = int(input(\"Enter the value of A\"))\n",
    "Z = int(input(\"Enter the value of Z\"))\n",
    "\n",
    "def B(A,Z,a5):\n",
    "    B = a1*A - a2*A**(2/3) - a3*(Z**2)/(A**(1/3)) - a4*((A-2*Z)**2)/A + a5/(A**(1/2))\n",
    "    return(B)\n",
    "\n",
    "if A % 2 != 0:\n",
    "    print(B(A,Z,a5Aodd),\"MeV\")\n",
    "    bindingenergies = []\n",
    "    for A in range(1*Z,3*Z):\n",
    "        bindingenergies.append(B(A,Z,a5Aodd))\n",
    "    print(\"The maximum binding energy is:\",max(bindingenergies))\n",
    "    print(\"the A value that gives the maximum binding enegery is:\",bindingenergies.index(max(bindingenergies)))\n",
    "\n",
    "\n",
    "    \n",
    "elif A % 2 == 0 and Z % 2 == 0:\n",
    "    print(B(A,Z,a5AZeven),\"MeV\")\n",
    "    bindingenergies = []\n",
    "    for A in range(1*Z,3*Z):\n",
    "        bindingenergies.append(B(A,Z,a5AZeven))\n",
    "    print(\"The maximum binding energy is:\",max(bindingenergies))\n",
    "    print(\"the A value that gives the maximum binding enegery is:\",bindingenergies.index(max(bindingenergies)))\n",
    "\n",
    "\n",
    "elif A % 2 == 0 and Z % 2 != 0:\n",
    "    print(B(A,Z,a5AevenZodd),\"MeV\")\n",
    "    bindingenergies = []\n",
    "    for A in range(1*Z,3*Z):\n",
    "        bindingenergies.append(B(A,Z,a5AevenZodd))\n",
    "    print(\"The maximum binding energy is:\",max(bindingenergies))\n",
    "    print(\"the A value that gives the maximum binding enegery is:\",bindingenergies.index(max(bindingenergies)))\n"
   ]
  },
  {
   "cell_type": "markdown",
   "metadata": {},
   "source": [
    "### Part b"
   ]
  },
  {
   "cell_type": "code",
   "execution_count": 63,
   "metadata": {},
   "outputs": [
    {
     "name": "stdout",
     "output_type": "stream",
     "text": [
      "-176.3067403291258 MeV\n",
      "[0, 1, 2, 3, 4, 5, 6, 7, 8, 9, 10, 11, 12, 13, 14, 15, 16, 17, 18, 19, 20, 21, 22, 23, 24, 25, 26, 27, 28, 29, 30, 31, 32, 33, 34, 35, 36, 37, 38, 39, 40, 41, 42, 43, 44, 45, 46, 47, 48, 49, 50, 51, 52, 53, 54, 55, 56, 57, 58, 59, 60, 61, 62, 63, 64, 65, 66, 67, 68, 69, 70, 71, 72, 73, 74, 75, 76, 77, 78, 79, 80, 81, 82, 83, 84, 85, 86, 87, 88, 89, 90, 91, 92, 93, 94, 95, 96, 97, 98, 99, 100]\n",
      "[11.87908585433842, 23.373239045780355, 38.31210483210548, 54.682640687119296, 73.86349134585687, 93.12534037079293, 112.2373180707481, 131.23438507205375, 150.12735831502357, 168.91706333178558, 188.17551150105254, 207.76210917920102, 227.09695221240642, 246.20142275012813, 265.09088353361045, 283.77660886160845, 302.7290345823954, 321.7376080399143, 340.49853089609604, 359.02431846038206, 377.32523068524495, 395.40977500695607, 413.83145966679365, 432.0452537056989, 450.0241900333164, 467.7765039894309, 485.30934897614435, 502.8420919158077, 520.4194787867436, 537.7678839458921, 554.8938883977363, 571.8033703886897, 588.5284696475175, 605.4275852540585, 622.1050271951909, 638.5661357448744, 654.8157716283109, 670.8583741637319, 686.9839448562859, 702.9712898896221, 718.7487578150287, 734.3204196913968, 749.6900415252381, 765.0587090610275, 780.3482023876501, 795.4341175994465, 810.319910836717, 825.0088105737318, 839.6525436717552, 854.2428456398088, 868.635512002107, 882.8335142116047, 896.8396493485814, 910.7833798954217, 924.6768909981866, 938.3782944730754, 951.890174259193, 965.2149777616753, 978.4790405897458, 991.68037756381, 1004.6947210585205, 1017.5243407949916, 1030.1713975476086, 1042.7729496291945, 1055.2880398708726, 1067.620861349057, 1079.7734256197655, 1091.7476558740104, 1103.7015515398582, 1115.5370774088287, 1127.1947024283334, 1138.6762234713403, 1149.983364712855, 1161.3027227722077, 1172.4657723641797, 1183.4549662019695, 1194.2719206731554, 1204.945316727394, 1215.6147787846955, 1226.112622773961, 1236.4403656449854, 1246.5994705444293, 1256.6679170647637, 1266.6758495519766, 1276.515797194707, 1286.1891374741467, 1295.6972022610817, 1305.1695766948192, 1314.5234882074358, 1323.7127942005961, 1332.7387521936312, 1341.6172727119792, 1350.4871722148673, 1359.1944299121965, 1367.7402345345154, 1376.12573960676, 1384.4292607933626, 1392.656653469157, 1400.72444885936, 1408.6337402148845, 1416.3855902667508]\n",
      "1416.3855902667508\n",
      "100\n"
     ]
    }
   ],
   "source": [
    "a1=15.67\n",
    "a2=17.23\n",
    "a3=0.75\n",
    "a4=93.2\n",
    "a5Aodd=0\n",
    "a5AZeven=12\n",
    "a5AevenZodd=-12\n",
    "A = int(input(\"Enter the value of A\"))\n",
    "Z = int(input(\"Enter the value of Z\"))\n",
    "def B(A,Z,a5):\n",
    "    B = a1*A - a2*A**(2/3) - a3*(Z**2)/(A**(1/3)) - a4*((A-2*Z)**2)/A + a5/(A**(1/2))\n",
    "    return(B)\n",
    "\n",
    "if A % 2 != 0:\n",
    "    print(B(A,Z,a5Aodd),\"MeV\")\n",
    "    bindingenergies = []\n",
    "    maxenergies = []\n",
    "    for Z in range(1,100):\n",
    "        for i in range(1*Z,3*Z):\n",
    "            bindingenergies.append(B(i,Z,a5Aodd))\n",
    "        maxenergies.append(max(bindingenergies))\n",
    "        print(maxenergies)\n",
    "        print(\"The maximum binding energy is:\",max(bindingenergies))\n",
    "        print(\"the A value that gives the maximum binding enegery is:\",bindingenergies.index(max(bindingenergies)))\n",
    "\n",
    "\n",
    "elif A % 2 == 0 and Z % 2 == 0:\n",
    "    print(B(A,Z,a5AZeven),\"MeV\")\n",
    "    bindingenergies = []\n",
    "    maxenergies = []\n",
    "    maxindex = []\n",
    "    for Z in range(1,102):\n",
    "        for A in range(1*Z,3*Z):\n",
    "            bindingenergies.append(B(A,Z,a5AZeven))\n",
    "        maxenergies.append(max(bindingenergies))\n",
    "        maxindex.append(maxenergies.index(max(maxenergies)))\n",
    "    print(maxindex)\n",
    "    print(maxenergies)\n",
    "    print(max(maxenergies))\n",
    "    print(maxenergies.index(max(maxenergies)))\n",
    "\n",
    "\n",
    "\n",
    "elif A % 2 == 0 and Z % 2 != 0:\n",
    "    print(B(A,Z,a5AevenZodd),\"MeV\")\n",
    "    bindingenergies = []\n",
    "    for i in range(1*Z,3*Z):\n",
    "        bindingenergies.append(B(i,Z,a5AevenZodd))\n",
    "    print(\"The maximum binding energy is:\",max(bindingenergies))\n",
    "    print(\"the A value that gives the maximum binding enegery is:\",bindingenergies.index(max(bindingenergies)))\n"
   ]
  }
 ],
 "metadata": {
  "kernelspec": {
   "display_name": "Python 3",
   "language": "python",
   "name": "python3"
  },
  "language_info": {
   "codemirror_mode": {
    "name": "ipython",
    "version": 3
   },
   "file_extension": ".py",
   "mimetype": "text/x-python",
   "name": "python",
   "nbconvert_exporter": "python",
   "pygments_lexer": "ipython3",
   "version": "3.10.6"
  }
 },
 "nbformat": 4,
 "nbformat_minor": 4
}
